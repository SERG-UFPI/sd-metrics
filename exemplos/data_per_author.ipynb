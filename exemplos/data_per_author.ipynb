{
 "cells": [
  {
   "cell_type": "markdown",
   "metadata": {},
   "source": [
    "## Perceval - Dados do Github por Autor"
   ]
  },
  {
   "cell_type": "markdown",
   "metadata": {},
   "source": [
    "#### Importação dos módulos"
   ]
  },
  {
   "cell_type": "code",
   "execution_count": 48,
   "metadata": {},
   "outputs": [],
   "source": [
    "from perceval.backends.core.git import Git\n",
    "import json"
   ]
  },
  {
   "cell_type": "markdown",
   "metadata": {},
   "source": [
    "#### Recuperação de Dados"
   ]
  },
  {
   "cell_type": "code",
   "execution_count": 49,
   "metadata": {},
   "outputs": [],
   "source": [
    "# url do repositório desejado\n",
    "repo_url = 'https://github.com/ES2-UFPI/Unichat.git'"
   ]
  },
  {
   "cell_type": "code",
   "execution_count": 50,
   "metadata": {},
   "outputs": [],
   "source": [
    "# diretório para Perceval clonar o repositóriodirectory for letting Perceval clone the git repo\n",
    "repo_dir = '/tmp/perceval.git'"
   ]
  },
  {
   "cell_type": "code",
   "execution_count": 51,
   "metadata": {},
   "outputs": [],
   "source": [
    "# cria um objeto Git, apontanto para a dada URL e clonando no diretório fornecido\n",
    "repo = Git(uri=repo_url, gitpath=repo_dir)"
   ]
  },
  {
   "cell_type": "markdown",
   "metadata": {},
   "source": [
    "#### Contando commits por autor"
   ]
  },
  {
   "cell_type": "code",
   "execution_count": 47,
   "metadata": {},
   "outputs": [
    {
     "data": {
      "text/plain": [
       "{'backend_name': 'Git',\n",
       " 'backend_version': '0.12.0',\n",
       " 'perceval_version': '0.12.24',\n",
       " 'timestamp': 1574392874.926461,\n",
       " 'origin': 'https://github.com/ES2-UFPI/Unichat.git',\n",
       " 'uuid': 'ff70934bc02786f00fbe129aa68bdf0804e0e4cd',\n",
       " 'updated_on': 1553202860.0,\n",
       " 'classified_fields_filtered': None,\n",
       " 'category': 'commit',\n",
       " 'search_fields': {'item_id': '28955432716aac74acffa63b58b0b6851289ce7a'},\n",
       " 'tag': 'https://github.com/ES2-UFPI/Unichat.git',\n",
       " 'data': {'commit': '28955432716aac74acffa63b58b0b6851289ce7a',\n",
       "  'parents': [],\n",
       "  'refs': [],\n",
       "  'Author': 'Neto Chaves <netobac1@gmail.com>',\n",
       "  'AuthorDate': 'Thu Mar 21 18:14:20 2019 -0300',\n",
       "  'Commit': 'Neto Chaves <netobac1@gmail.com>',\n",
       "  'CommitDate': 'Thu Mar 21 18:14:20 2019 -0300',\n",
       "  'message': 'Initial commit',\n",
       "  'files': [{'modes': ['000000', '100644'],\n",
       "    'indexes': ['0000000', '4d5a987'],\n",
       "    'action': 'A',\n",
       "    'file': 'README.md',\n",
       "    'added': '3',\n",
       "    'removed': '0'}]}}"
      ]
     },
     "execution_count": 47,
     "metadata": {},
     "output_type": "execute_result"
    }
   ],
   "source": [
    "a"
   ]
  },
  {
   "cell_type": "code",
   "execution_count": 43,
   "metadata": {},
   "outputs": [],
   "source": [
    "# Recupera todos os comites como um iterador, e itera sobre os mesmos para fazer a contagem\n",
    "autores = {}\n",
    "for commit in repo.fetch():\n",
    "    autor = commit['data']['Author']\n",
    "    email = autor.split()[-1]\n",
    "    try:\n",
    "        autores[email] += 1\n",
    "    except:\n",
    "        autores[email] = 1"
   ]
  },
  {
   "cell_type": "code",
   "execution_count": 55,
   "metadata": {},
   "outputs": [
    {
     "name": "stdout",
     "output_type": "stream",
     "text": [
      "<netobac1@gmail.com>: 206\n",
      "<pedrochaveslimas3@gmail.com>: 155\n",
      "<evandrojr@sei-info.com>: 26\n",
      "<max.lima2@gmail.com>: 149\n",
      "<47798920+mrvan04@users.noreply.github.com>: 6\n"
     ]
    }
   ],
   "source": [
    "for key, value in autores.items():\n",
    "    print(key + ':', value)"
   ]
  },
  {
   "cell_type": "markdown",
   "metadata": {},
   "source": [
    "#### Contanto alteracoes por autor (adicao + remocao)"
   ]
  },
  {
   "cell_type": "code",
   "execution_count": 63,
   "metadata": {},
   "outputs": [],
   "source": [
    "# Recupera todos os comites como um iterador, e itera sobre os mesmos para fazer a contagem\n",
    "autores = {}\n",
    "for commit in repo.fetch():\n",
    "    autor = commit['data']['Author']\n",
    "    email = autor.split()[-1]\n",
    "    files = commit['data']['files']\n",
    "    \n",
    "    for file in files:\n",
    "        a = file['added']\n",
    "        if a == '-':\n",
    "            a = 0\n",
    "        r = file['removed']\n",
    "        if r == '-':\n",
    "            r = 0\n",
    "        try:\n",
    "            autores[email] += int(a) + int(r)\n",
    "        except:\n",
    "            autores[email] = int(a) + int(r)\n",
    "    "
   ]
  },
  {
   "cell_type": "code",
   "execution_count": 69,
   "metadata": {},
   "outputs": [
    {
     "name": "stdout",
     "output_type": "stream",
     "text": [
      "<netobac1@gmail.com>: 243\n",
      "<pedrochaveslimas3@gmail.com>: 130\n",
      "<evandrojr@sei-info.com>: 28\n",
      "<max.lima2@gmail.com>: 103\n",
      "<47798920+mrvan04@users.noreply.github.com>: 1\n"
     ]
    }
   ],
   "source": [
    "for key, value in autores.items():\n",
    "    print(key + ':', value)"
   ]
  },
  {
   "cell_type": "markdown",
   "metadata": {},
   "source": [
    "#### Contando arquivos alterados por autor"
   ]
  },
  {
   "cell_type": "code",
   "execution_count": 67,
   "metadata": {},
   "outputs": [],
   "source": [
    "# Recupera todos os comites como um iterador, e itera sobre os mesmos para fazer a contagem\n",
    "autores = {}\n",
    "for commit in repo.fetch():\n",
    "    autor = commit['data']['Author']\n",
    "    email = autor.split()[-1]\n",
    "    files = commit['data']['files']\n",
    "    \n",
    "    for file in files:\n",
    "        try:\n",
    "            if file['file'] not in autores[email]:\n",
    "                autores[email].append(file['file'])\n",
    "        except:\n",
    "            autores[email] = [file['file']]\n",
    "\n",
    "for autor in autores:\n",
    "    autores[autor] = len(autores[autor])"
   ]
  },
  {
   "cell_type": "code",
   "execution_count": 70,
   "metadata": {},
   "outputs": [
    {
     "name": "stdout",
     "output_type": "stream",
     "text": [
      "<netobac1@gmail.com>: 243\n",
      "<pedrochaveslimas3@gmail.com>: 130\n",
      "<evandrojr@sei-info.com>: 28\n",
      "<max.lima2@gmail.com>: 103\n",
      "<47798920+mrvan04@users.noreply.github.com>: 1\n"
     ]
    }
   ],
   "source": [
    "for key, value in autores.items():\n",
    "    print(key + ':', value)"
   ]
  },
  {
   "cell_type": "code",
   "execution_count": null,
   "metadata": {},
   "outputs": [],
   "source": []
  }
 ],
 "metadata": {
  "kernelspec": {
   "display_name": "Python 3",
   "language": "python",
   "name": "python3"
  },
  "language_info": {
   "codemirror_mode": {
    "name": "ipython",
    "version": 3
   },
   "file_extension": ".py",
   "mimetype": "text/x-python",
   "name": "python",
   "nbconvert_exporter": "python",
   "pygments_lexer": "ipython3",
   "version": "3.6.2"
  }
 },
 "nbformat": 4,
 "nbformat_minor": 2
}
