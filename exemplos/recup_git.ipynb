{
 "cells": [
  {
   "cell_type": "markdown",
   "metadata": {},
   "source": [
    "## Perceval - Recuperação de Dados do Github"
   ]
  },
  {
   "cell_type": "markdown",
   "metadata": {},
   "source": [
    "#### Importação do módulo"
   ]
  },
  {
   "cell_type": "code",
   "execution_count": 1,
   "metadata": {},
   "outputs": [],
   "source": [
    "from perceval.backends.core.git import Git"
   ]
  },
  {
   "cell_type": "markdown",
   "metadata": {},
   "source": [
    "#### Recuperação de Dados"
   ]
  },
  {
   "cell_type": "code",
   "execution_count": 2,
   "metadata": {},
   "outputs": [],
   "source": [
    "# url do repositório desejado\n",
    "repo_url = 'https://github.com/ES2-UFPI/Unichat.git'"
   ]
  },
  {
   "cell_type": "code",
   "execution_count": 3,
   "metadata": {},
   "outputs": [],
   "source": [
    "# diretório para Perceval clonar o repositóriodirectory for letting Perceval clone the git repo\n",
    "repo_dir = '/tmp/perceval.git'"
   ]
  },
  {
   "cell_type": "code",
   "execution_count": 4,
   "metadata": {},
   "outputs": [],
   "source": [
    "# cria um objeto Git, apontanto para a dada URL e clonando no diretório fornecido\n",
    "repo = Git(uri=repo_url, gitpath=repo_dir)"
   ]
  },
  {
   "cell_type": "code",
   "execution_count": 5,
   "metadata": {},
   "outputs": [],
   "source": [
    "#### Contanto Commits"
   ]
  },
  {
   "cell_type": "code",
   "execution_count": 7,
   "metadata": {},
   "outputs": [
    {
     "name": "stdout",
     "output_type": "stream",
     "text": [
      "{'backend_name': 'Git', 'backend_version': '0.12.0', 'perceval_version': '0.12.24', 'timestamp': 1574390686.81179, 'origin': 'https://github.com/ES2-UFPI/Unichat.git', 'uuid': 'ff70934bc02786f00fbe129aa68bdf0804e0e4cd', 'updated_on': 1553202860.0, 'classified_fields_filtered': None, 'category': 'commit', 'search_fields': {'item_id': '28955432716aac74acffa63b58b0b6851289ce7a'}, 'tag': 'https://github.com/ES2-UFPI/Unichat.git', 'data': {'commit': '28955432716aac74acffa63b58b0b6851289ce7a', 'parents': [], 'refs': [], 'Author': 'Neto Chaves <netobac1@gmail.com>', 'AuthorDate': 'Thu Mar 21 18:14:20 2019 -0300', 'Commit': 'Neto Chaves <netobac1@gmail.com>', 'CommitDate': 'Thu Mar 21 18:14:20 2019 -0300', 'message': 'Initial commit', 'files': [{'modes': ['000000', '100644'], 'indexes': ['0000000', '4d5a987'], 'action': 'A', 'file': 'README.md', 'added': '3', 'removed': '0'}]}}\n",
      "Total de commits: 542\n"
     ]
    }
   ],
   "source": [
    "# Recupera todos os comites como um iterador, e itera sobre os mesmos para fazer a contagem\n",
    "cont = 0\n",
    "for commit in repo.fetch():\n",
    "    cont += 1\n",
    "    if cont == 1:\n",
    "        print(commit)\n",
    "print(\"Total de commits:\", cont)"
   ]
  },
  {
   "cell_type": "code",
   "execution_count": null,
   "metadata": {},
   "outputs": [],
   "source": []
  }
 ],
 "metadata": {
  "kernelspec": {
   "display_name": "Python 3",
   "language": "python",
   "name": "python3"
  },
  "language_info": {
   "codemirror_mode": {
    "name": "ipython",
    "version": 3
   },
   "file_extension": ".py",
   "mimetype": "text/x-python",
   "name": "python",
   "nbconvert_exporter": "python",
   "pygments_lexer": "ipython3",
   "version": "3.6.2"
  }
 },
 "nbformat": 4,
 "nbformat_minor": 2
}
